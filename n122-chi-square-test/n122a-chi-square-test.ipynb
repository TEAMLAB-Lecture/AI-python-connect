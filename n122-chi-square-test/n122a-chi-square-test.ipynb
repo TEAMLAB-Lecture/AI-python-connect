{
  "nbformat": 4,
  "nbformat_minor": 0,
  "metadata": {
    "colab": {
      "name": "n122a-chi-square-test.ipynb",
      "provenance": [],
      "include_colab_link": true
    },
    "kernelspec": {
      "display_name": "Python 3",
      "language": "python",
      "name": "python3"
    },
    "language_info": {
      "codemirror_mode": {
        "name": "ipython",
        "version": 3
      },
      "file_extension": ".py",
      "mimetype": "text/x-python",
      "name": "python",
      "nbconvert_exporter": "python",
      "pygments_lexer": "ipython3",
      "version": "3.8.2"
    }
  },
  "cells": [
    {
      "cell_type": "markdown",
      "metadata": {
        "id": "view-in-github",
        "colab_type": "text"
      },
      "source": [
        "<a href=\"https://colab.research.google.com/github/Gwonchankim/AI-python-connect/blob/master/n122-chi-square-test/n122a-chi-square-test.ipynb\" target=\"_parent\"><img src=\"https://colab.research.google.com/assets/colab-badge.svg\" alt=\"Open In Colab\"/></a>"
      ]
    },
    {
      "cell_type": "markdown",
      "metadata": {
        "id": "rQf3dSuc5PqO"
      },
      "source": [
        "<img src='https://i.imgur.com/RDAD11M.png' width = '200' align = 'right'>\n",
        "\n",
        "## *DATA SCIENCE / SECTION 1 / SPRINT 2 / NOTE 2*\n",
        "\n",
        "# 📝 Assignment"
      ]
    },
    {
      "cell_type": "markdown",
      "metadata": {
        "id": "zIldCo3R71wd"
      },
      "source": [
        "# 카이제곱검정"
      ]
    },
    {
      "cell_type": "markdown",
      "metadata": {
        "id": "11OzdxWTM7UR"
      },
      "source": [
        "\n",
        "## 1. 공공데이터 조작 연습. \n",
        "\n",
        "국가 통계 포털에서 아래 이미지를 참조하여\n",
        "\n",
        "<https://kosis.kr/statisticsList/statisticsListIndex.do?menuId=M_01_01&vwcd=MT_ZTITLE&parmTabId=M_01_01#SelectStatsBoxDiv>\n",
        "\n",
        "**2020년 8월**에 해당하는 규모별 미분양현황 에 대한 데이터셋을 생성하세요. \n",
        "\n",
        "<img src='https://i.imgur.com/aZc4UJO.png' width = 500>\n",
        "\n",
        "- `60m이하`, `60~85m`, `85m초과`의 3개 규모와 (column)\n",
        "- `서울`, `대전`, `대구`, `부산` 4개의 지역을 포함해야합니다. (row)\n",
        "- `민간부문`만 포함합니다\n",
        "- 데이터가 없는 경우는 0으로 처리하세요.\n",
        "\n",
        "이후 데이터셋을 colab으로 불러오세요. 이때 변수의 이름은 `df`를 사용합니다.\n"
      ]
    },
    {
      "cell_type": "code",
      "metadata": {
        "id": "iZGiUmi2EuGZ"
      },
      "source": [
        "import pandas as pd\n",
        "import numpy as np\n",
        "from scipy import stats"
      ],
      "execution_count": 4,
      "outputs": []
    },
    {
      "cell_type": "code",
      "metadata": {
        "colab": {
          "base_uri": "https://localhost:8080/",
          "height": 203
        },
        "id": "M4iwxM5FEI__",
        "outputId": "220a9be8-505d-4a8f-aacc-998eba7eefbb"
      },
      "source": [
        "df = pd.read_csv('/content/규모별_미분양현황_20210716162818.csv', encoding='euc-kr')\n",
        "df.columns = ['시도', '부문', '규모', '2020_08']\n",
        "\n",
        "df= df.pivot_table ( index = '시도' ,  columns = '규모' ,  values = '2020_08', aggfunc='sum')\n",
        "df = df.rename(columns = {'60㎡이하' : '~60㎡', '85㎡초과' :'85㎡~'})\n",
        "df[['60∼85㎡',\t'~60㎡',\t'85㎡~']] = df[['60∼85㎡',\t'~60㎡',\t'85㎡~']].apply(pd.to_numeric)\n",
        "col0, col1, col2 =[df.columns[0]] , [df.columns[1]] , [df.columns[2]]\n",
        "new_col=col1+col0+col2\n",
        "df=df[new_col]\n",
        "df"
      ],
      "execution_count": 6,
      "outputs": [
        {
          "output_type": "execute_result",
          "data": {
            "text/html": [
              "<div>\n",
              "<style scoped>\n",
              "    .dataframe tbody tr th:only-of-type {\n",
              "        vertical-align: middle;\n",
              "    }\n",
              "\n",
              "    .dataframe tbody tr th {\n",
              "        vertical-align: top;\n",
              "    }\n",
              "\n",
              "    .dataframe thead th {\n",
              "        text-align: right;\n",
              "    }\n",
              "</style>\n",
              "<table border=\"1\" class=\"dataframe\">\n",
              "  <thead>\n",
              "    <tr style=\"text-align: right;\">\n",
              "      <th>규모</th>\n",
              "      <th>~60㎡</th>\n",
              "      <th>60∼85㎡</th>\n",
              "      <th>85㎡~</th>\n",
              "    </tr>\n",
              "    <tr>\n",
              "      <th>시도</th>\n",
              "      <th></th>\n",
              "      <th></th>\n",
              "      <th></th>\n",
              "    </tr>\n",
              "  </thead>\n",
              "  <tbody>\n",
              "    <tr>\n",
              "      <th>대구</th>\n",
              "      <td>143</td>\n",
              "      <td>1437</td>\n",
              "      <td>44</td>\n",
              "    </tr>\n",
              "    <tr>\n",
              "      <th>대전</th>\n",
              "      <td>782</td>\n",
              "      <td>1</td>\n",
              "      <td>0</td>\n",
              "    </tr>\n",
              "    <tr>\n",
              "      <th>부산</th>\n",
              "      <td>577</td>\n",
              "      <td>735</td>\n",
              "      <td>142</td>\n",
              "    </tr>\n",
              "    <tr>\n",
              "      <th>서울</th>\n",
              "      <td>54</td>\n",
              "      <td>2</td>\n",
              "      <td>0</td>\n",
              "    </tr>\n",
              "  </tbody>\n",
              "</table>\n",
              "</div>"
            ],
            "text/plain": [
              "규모  ~60㎡  60∼85㎡  85㎡~\n",
              "시도                    \n",
              "대구   143    1437    44\n",
              "대전   782       1     0\n",
              "부산   577     735   142\n",
              "서울    54       2     0"
            ]
          },
          "metadata": {
            "tags": []
          },
          "execution_count": 6
        }
      ]
    },
    {
      "cell_type": "code",
      "metadata": {
        "colab": {
          "base_uri": "https://localhost:8080/"
        },
        "id": "v2u3PjaFNE5T",
        "outputId": "81068ff5-06f3-4b2d-f121-77aa9ee3bcf5"
      },
      "source": [
        "df.shape"
      ],
      "execution_count": 7,
      "outputs": [
        {
          "output_type": "execute_result",
          "data": {
            "text/plain": [
              "(4, 3)"
            ]
          },
          "metadata": {
            "tags": []
          },
          "execution_count": 7
        }
      ]
    },
    {
      "cell_type": "code",
      "metadata": {
        "colab": {
          "base_uri": "https://localhost:8080/"
        },
        "id": "jp0lVlW4OJ6u",
        "outputId": "6f77b463-bbef-43a1-ecf0-b59e315587c5"
      },
      "source": [
        "df.sum().sum()"
      ],
      "execution_count": 8,
      "outputs": [
        {
          "output_type": "execute_result",
          "data": {
            "text/plain": [
              "3917"
            ]
          },
          "metadata": {
            "tags": []
          },
          "execution_count": 8
        }
      ]
    },
    {
      "cell_type": "markdown",
      "metadata": {
        "id": "RXPZZuAi3ccI"
      },
      "source": [
        "## 2. 지역에 대해서 one-sample chi-square test를 실행, 해당 결과를 `chi1`에 저장 후 설명해보세요.\n",
        "\n",
        "예시) 만약 **9월달 데이터**를 기준으로 한다면\n",
        "```python\n",
        " [52+2+0, 590+665+142, 113+1061+42, 772+1+0]\n",
        "```\n",
        "을 비교 하게 될 것입니다.\n",
        "\n",
        "\n"
      ]
    },
    {
      "cell_type": "code",
      "metadata": {
        "id": "oIMzAkXks-Sv",
        "colab": {
          "base_uri": "https://localhost:8080/"
        },
        "outputId": "5724b5d3-a961-4feb-974d-01aa6ddb68a9"
      },
      "source": [
        "# scipy 사용\n",
        "from scipy.stats import chisquare\n",
        "obs = df.sum(axis=1)\n",
        "chi1 = chisquare(obs)[0]\n",
        "print(f'chi1 = {chi1:}')"
      ],
      "execution_count": 10,
      "outputs": [
        {
          "output_type": "stream",
          "text": [
            "chi1 = 1564.4572376818994\n"
          ],
          "name": "stdout"
        }
      ]
    },
    {
      "cell_type": "code",
      "metadata": {
        "colab": {
          "base_uri": "https://localhost:8080/"
        },
        "id": "Kuk3GOQEPn-i",
        "outputId": "f639bac7-3393-439b-ee3a-5e35882f744e"
      },
      "source": [
        "obs"
      ],
      "execution_count": 14,
      "outputs": [
        {
          "output_type": "execute_result",
          "data": {
            "text/plain": [
              "시도\n",
              "대구    1624\n",
              "대전     783\n",
              "부산    1454\n",
              "서울      56\n",
              "dtype: int64"
            ]
          },
          "metadata": {
            "tags": []
          },
          "execution_count": 14
        }
      ]
    },
    {
      "cell_type": "markdown",
      "metadata": {
        "id": "tUfYf21fNFqm"
      },
      "source": [
        "## Ho : 지역에 따라 미분양 수는 독립적이다.\n",
        "    \n",
        "\n",
        "*   지역에 상관없이 공평하게 나올 것이다.\n",
        "*   p-value = 0 < 0.05, 기각\n",
        "\n",
        "\n",
        "## H1 : 지역에 따라 미분양 수는 독립적이지 않다.\n",
        "\n",
        "*   지역에 상관없이 공평하게 나오지 않을 것이다.\n",
        "*   p-value = 0 < 0.05, 채택\n",
        "\n",
        "\n",
        "## 결론 : 지역변 미분양 수는 지역과 연관성이 있을것이다.\n"
      ]
    },
    {
      "cell_type": "markdown",
      "metadata": {
        "id": "eMDtugVNRu0q"
      },
      "source": [
        "## 3. 지역과 규모에 대해서 two-sample chi-square test를 실행, 해당 결과를 `chi2`에 저장 후 설명해보세요.\n",
        "\n",
        "예시) **9월달 데이터**를 기준으로 한다면\n",
        "\n",
        "| |-60 | 60-85 | 85- |\n",
        "|:-:|:-:|:-:|:-:|\n",
        "|서울|52|2|0|\n",
        "|대전|772|1|0|\n",
        "|대구|113|1061|42|\n",
        "|부산|590|665|142|\n",
        "\n",
        "에 대해서 검정해야 할 겁니다.\n",
        "\n",
        "\n"
      ]
    },
    {
      "cell_type": "code",
      "metadata": {
        "id": "Ckcr4A4FM7cs",
        "colab": {
          "base_uri": "https://localhost:8080/"
        },
        "outputId": "1239ea12-463d-4a8b-b663-cf423b9f9346"
      },
      "source": [
        "from scipy.stats import chi2_contingency\n",
        "chi2 = chi2_contingency(df) #df -> 이미 crosstab이 되어있네.\n",
        "chi2\n",
        "print(f' chi2 = {chi2[0]}\\n p_value = {chi2[1]}\\n 자유도 = {chi2[2]}\\n array = \\n{chi2[3]}')"
      ],
      "execution_count": 15,
      "outputs": [
        {
          "output_type": "stream",
          "text": [
            " chi2 = 2064.5767314171994\n",
            " p_value = 0.0\n",
            " 자유도 = 6\n",
            " array = \n",
            "[[645.12228746 901.76155221  77.11616033]\n",
            " [311.04110288 434.77789124  37.18100587]\n",
            " [577.59101353 807.36533061  69.04365586]\n",
            " [ 22.24559612  31.09522594   2.65917794]]\n"
          ],
          "name": "stdout"
        }
      ]
    },
    {
      "cell_type": "markdown",
      "metadata": {
        "id": "aI02BaXljhJy"
      },
      "source": [
        "## H0 : 미분양 현황에 대해 지역과 규모는 연관성이 없다\n",
        "## H1 : 미분양 현황에 대해 지역과 규모는 연관성이 있다\n",
        "\n",
        "      * 검정결과, p-value는 0.0으로 유의수준 95%하에서 유의확률 0.05보다 작은\n",
        "        값이다. 따라서 귀무가설을 기각한다. \n",
        "        즉, 미분양 현황에 있어 지역과 규모는 연관성이 없다고 볼 수 없다.`"
      ]
    },
    {
      "cell_type": "markdown",
      "metadata": {
        "id": "Tf7XPpBP6YqX"
      },
      "source": [
        "## 4. 2번에 대해서 NumPy 를 사용하여 (Scipy를 사용하지 않고) $\\chi^2$ test 시행 후 2번의 결과와 비교해보세요. \n",
        "\n",
        "- `obs`, `exp`, `chi`라는 변수를 사용해야합니다."
      ]
    },
    {
      "cell_type": "code",
      "metadata": {
        "id": "OjFt0b1-wrFL",
        "colab": {
          "base_uri": "https://localhost:8080/"
        },
        "outputId": "bf5faf2f-79ad-4eca-dec0-cca2cfd7c03c"
      },
      "source": [
        "# numpy사용\n",
        "obs = df.sum(axis = 1)\n",
        "exp = np.sum(obs) / len(obs)\n",
        "chi_squared = ((obs - exp)**2) / exp\n",
        "chi = chi_squared.sum()\n",
        "p_value = 1 - stats.chi.cdf(chi, df = (4-1))\n",
        "print(f'chi = {chi:}' ,f'p_value = {p_value:}')"
      ],
      "execution_count": 17,
      "outputs": [
        {
          "output_type": "stream",
          "text": [
            "chi = 1564.4572376818994 p_value = 0.0\n"
          ],
          "name": "stdout"
        }
      ]
    },
    {
      "cell_type": "code",
      "metadata": {
        "colab": {
          "base_uri": "https://localhost:8080/"
        },
        "id": "d3rO4-ROP5sS",
        "outputId": "b104b951-b6cf-48f6-a19a-fb2206269b82"
      },
      "source": [
        "exp"
      ],
      "execution_count": 18,
      "outputs": [
        {
          "output_type": "execute_result",
          "data": {
            "text/plain": [
              "979.25"
            ]
          },
          "metadata": {
            "tags": []
          },
          "execution_count": 18
        }
      ]
    },
    {
      "cell_type": "markdown",
      "metadata": {
        "id": "a2BrKHq8m8AS"
      },
      "source": [
        "## 🔥 도전 과제\n",
        "\n",
        "아래 세가지를 다하면 됩니다.\n",
        "\n",
        "### 1. Function\n",
        "\n",
        "4번에서 사용한 one sample chisquare test를 함수의 형태로 변경하세요."
      ]
    },
    {
      "cell_type": "code",
      "metadata": {
        "id": "AntnuAkFm-JQ",
        "colab": {
          "base_uri": "https://localhost:8080/"
        },
        "outputId": "6525278f-5b07-4f47-c553-b77776eccee4"
      },
      "source": [
        "v1 = [18,22,20,15,23,22]\n",
        "v2 = [5,23,26,19,24,23]\n",
        "\n",
        "def myChisq(value):\n",
        "  import numpy as np\n",
        "  from scipy import stats\n",
        "  obs = value                   # v1, v2\n",
        "  exp = np.sum(obs) / len(obs)  # 기대값\n",
        "  chi_squared = ((obs-exp)**2) / exp     # x제곱\n",
        "  chi = chi_squared.sum()                # chisqure\n",
        "  p_value = 1 - stats.chi2.cdf(chi, df = len(value)-1)  # p_value\n",
        "  return print(f'value = {value}, chisquare = {chi} , p_value = {p_value}') \n",
        "\n",
        "myChisq(v1) \n",
        "myChisq(v2)\n",
        "\n"
      ],
      "execution_count": null,
      "outputs": [
        {
          "output_type": "stream",
          "text": [
            "value = [18, 22, 20, 15, 23, 22], chisquare = 2.3000000000000003 , p_value = 0.8062668698851285\n",
            "value = [5, 23, 26, 19, 24, 23], chisquare = 14.8 , p_value = 0.011251979028327308\n"
          ],
          "name": "stdout"
        }
      ]
    },
    {
      "cell_type": "markdown",
      "metadata": {
        "id": "4ohsJhQUmEuS"
      },
      "source": [
        "### 2. ANOVA\n",
        "\n",
        "아래 링크를 참조하여 ANOVA 에 대한 글을 읽고\n",
        "\n",
        "<https://partrita.github.io/posts/ANOVA-python/>\n",
        "\n",
        "다음 `4개 그룹에 대해서 평균의 차이가 있는지`에 대한 가설 검정을 시행하세요.\n",
        "\n",
        "A : `38 33 35 92 76 97 88 41 11  9`\n",
        "\n",
        "B : `18 52 62 48 30 40 87 12 97 82`\n",
        "\n",
        "C :  `28 90  5 49 66 73 96 80  4 17`\n",
        "\n",
        "D : ` 8 99  4 12  7 64 18 10  9 20`\n",
        "\n"
      ]
    },
    {
      "cell_type": "markdown",
      "metadata": {
        "id": "DMebi5_4UaSn"
      },
      "source": [
        "## H0 : 4개의 그룹에 대해서 평균의 차의가 나지 않는다\n",
        "## H1 : 4개의 그룹에 대해서 평균의 차이가 난다."
      ]
    },
    {
      "cell_type": "code",
      "metadata": {
        "colab": {
          "base_uri": "https://localhost:8080/"
        },
        "id": "AgkfC51fqLEZ",
        "outputId": "8408a80d-2c9e-48ba-c62c-91fa9032247d"
      },
      "source": [
        "A = [38,33,35,92,76,97,88,41,11,9]\n",
        "B = [18,52,62,48,30,40,87,12,97,82]\n",
        "C = [28,90,5,49,66,73,96,80,4,17]\n",
        "D = [8,99,4,12,7,64,18,10,9,20]\n",
        "\n",
        "F_statistic, pVal = stats.f_oneway(A,B,C,D)\n",
        "print(f'데이터의 일원분산분석 결과 : F={F_statistic}, p={pVal}')"
      ],
      "execution_count": null,
      "outputs": [
        {
          "output_type": "stream",
          "text": [
            "데이터의 일원분산분석 결과 : F=1.7249594239128412, p=0.17920877113948797\n"
          ],
          "name": "stdout"
        }
      ]
    },
    {
      "cell_type": "markdown",
      "metadata": {
        "id": "k2vuHNLu1niX"
      },
      "source": [
        "## 결과\n",
        "*    P-value>0.05 이므로 귀무가설 기각 대립가설 채택"
      ]
    }
  ]
}